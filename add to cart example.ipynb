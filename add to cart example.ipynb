{
 "cells": [
  {
   "cell_type": "code",
   "execution_count": 1,
   "metadata": {},
   "outputs": [],
   "source": [
    "# add the following items to cart:\n",
    "# https://fordays.com/collections/womens-tops/products/90-s-crop-ls\n",
    "# color black, size medium\n",
    "# https://fordays.com/collections/bottoms/products/high-waisted-wide-leg-pant\n",
    "# color black, size medium\n",
    "\n",
    "# in chrome, select element, inspect, right click copy on html code, copy xpath\n",
    "# or use xpath syntax: https://www.browserstack.com/guide/find-element-by-xpath-in-selenium\n",
    "\n",
    "### next: detect which popup case it is and handle accordingly\n",
    "### add things to cart"
   ]
  },
  {
   "cell_type": "code",
   "execution_count": 1,
   "metadata": {},
   "outputs": [],
   "source": [
    "from selenium import webdriver # use selenium webdriver to load dynamic webpage\n",
    "from bs4 import BeautifulSoup # use beautifulsoup to parse html once page is loaded\n",
    "import time\n",
    "from selenium.webdriver.common.by import By\n",
    "from selenium.webdriver.support.ui import WebDriverWait\n",
    "from selenium.webdriver.support import expected_conditions as EC\n",
    "from selenium.webdriver.chrome.options import Options\n",
    "options = Options()\n",
    "# options.add_argument('--headless')\n",
    "options.add_argument('--disable-gpu') \n",
    "# options.add_argument(\"--disable-notifications\") # doesn't work, https://stackoverflow.com/questions/27270357/closing-a-generic-pop-up-in-selenium\n",
    "# import pprint"
   ]
  },
  {
   "cell_type": "code",
   "execution_count": 2,
   "metadata": {},
   "outputs": [
    {
     "name": "stderr",
     "output_type": "stream",
     "text": [
      "<ipython-input-2-361fc63cc44c>:2: DeprecationWarning: use options instead of chrome_options\n",
      "  driver = webdriver.Chrome(executable_path = path, chrome_options=options)\n"
     ]
    }
   ],
   "source": [
    "path = '/Users/yapinghe/Downloads/chromedriver-4' # path to your chromedriver\n",
    "driver = webdriver.Chrome(executable_path = path, chrome_options=options)\n",
    "urls = ['https://fordays.com/collections/womens-tops/products/90-s-crop-ls','https://fordays.com/collections/bottoms/products/high-waisted-wide-leg-pant']"
   ]
  },
  {
   "cell_type": "code",
   "execution_count": 3,
   "metadata": {},
   "outputs": [
    {
     "name": "stdout",
     "output_type": "stream",
     "text": [
      "trying first case\n",
      "trying second case\n",
      "trying third case\n"
     ]
    }
   ],
   "source": [
    "for u in urls:\n",
    "    driver.get(u)\n",
    "    time.sleep(5)\n",
    "    try: \n",
    "        driver.find_element_by_xpath('//*[@id=\"BLACK\"]').click()\n",
    "        driver.find_element_by_xpath('//div[@data-value=\"M\"]').click() # xpath syntax: https://www.browserstack.com/guide/find-element-by-xpath-in-selenium\n",
    "    except:\n",
    "        try:\n",
    "            print('trying first case')\n",
    "            time.sleep(3)\n",
    "            driver.find_element_by_xpath('//button[text()=\"Nah, I\\'ll pay full price\"]').click()\n",
    "            driver.find_element_by_xpath('//*[@id=\"BLACK\"]').click()\n",
    "            driver.find_element_by_xpath('//div[@data-value=\"M\"]').click()\n",
    "\n",
    "        except:\n",
    "            try:\n",
    "                print('trying second case')\n",
    "                time.sleep(3)\n",
    "                driver.find_element_by_xpath('//button[text()=\"Decline Offer\"]').click()\n",
    "                driver.find_element_by_xpath('//*[@id=\"BLACK\"]').click()\n",
    "                driver.find_element_by_xpath('//div[@data-value=\"M\"]').click()\n",
    "            except:\n",
    "                print('trying third case')\n",
    "                time.sleep(3)\n",
    "                iframe = driver.find_element_by_xpath(\"//iframe[@title='Sign Up via Text for Offers']\") # https://stackoverflow.com/questions/44834358/switch-to-an-iframe-through-selenium-and-python\n",
    "                driver.switch_to.frame(iframe)\n",
    "                driver.find_element_by_xpath('//*[@id=\"closeIconContainer\"]').click()\n",
    "                driver.switch_to.default_content()\n",
    "                driver.find_element_by_xpath('//*[@id=\"BLACK\"]').click()\n",
    "                driver.find_element_by_xpath('//div[@data-value=\"M\"]').click()\n",
    "\n",
    "    driver.find_element_by_xpath('//span[text()=\"Add to cart\"]').click()\n",
    "    \n",
    "# change to have selenium wait until element is clickable\n",
    "time.sleep(3) # without wait would get ElementNotInteractableException: Message: element not interactable\n",
    "driver.find_element_by_xpath('//*[@id=\"checkout-button\"]').click()"
   ]
  },
  {
   "cell_type": "code",
   "execution_count": 4,
   "metadata": {},
   "outputs": [],
   "source": [
    "# try: \n",
    "#     driver.find_element_by_xpath('//*[@id=\"BLACK\"]').click()\n",
    "#     driver.find_element_by_xpath('//div[@data-value=\"M\"]').click() # xpath syntax: https://www.browserstack.com/guide/find-element-by-xpath-in-selenium\n",
    "# except:\n",
    "#     try:\n",
    "#         print('trying first case')\n",
    "#         time.sleep(3)\n",
    "#         driver.find_element_by_xpath('//button[text()=\"Nah, I\\'ll pay full price\"]').click()\n",
    "#         driver.find_element_by_xpath('//*[@id=\"BLACK\"]').click()\n",
    "#         driver.find_element_by_xpath('//div[@data-value=\"M\"]').click()\n",
    "        \n",
    "#     except:\n",
    "#         try:\n",
    "#             print('trying second case')\n",
    "#             time.sleep(3)\n",
    "#             driver.find_element_by_xpath('//button[text()=\"Decline Offer\"]').click()\n",
    "#             driver.find_element_by_xpath('//*[@id=\"BLACK\"]').click()\n",
    "#             driver.find_element_by_xpath('//div[@data-value=\"M\"]').click()\n",
    "#         except:\n",
    "#             print('trying third case')\n",
    "#             time.sleep(3)\n",
    "#             iframe = driver.find_element_by_xpath(\"//iframe[@title='Sign Up via Text for Offers']\") # https://stackoverflow.com/questions/44834358/switch-to-an-iframe-through-selenium-and-python\n",
    "#             driver.switch_to.frame(iframe)\n",
    "#             driver.find_element_by_xpath('//*[@id=\"closeIconContainer\"]').click()\n",
    "#             driver.switch_to.default_content()\n",
    "#             driver.find_element_by_xpath('//*[@id=\"BLACK\"]').click()\n",
    "#             driver.find_element_by_xpath('//div[@data-value=\"M\"]').click()\n",
    "\n",
    "# driver.find_element_by_xpath('//span[text()=\"Add to cart\"]').click()\n",
    "# # change to have selenium wait until element is clickable\n",
    "# time.sleep(3) # without wait would get ElementNotInteractableException: Message: element not interactable\n",
    "# driver.find_element_by_xpath('//*[@id=\"checkout-button\"]').click()"
   ]
  },
  {
   "cell_type": "code",
   "execution_count": 5,
   "metadata": {},
   "outputs": [],
   "source": [
    "# # first pop up case\n",
    "# iframe = driver.find_element_by_xpath(\"//iframe[@title='Sign Up via Text for Offers']\") # https://stackoverflow.com/questions/44834358/switch-to-an-iframe-through-selenium-and-python\n",
    "# driver.switch_to.frame(iframe)\n",
    "# driver.find_element_by_xpath('//*[@id=\"closeIconContainer\"]').click()\n",
    "# driver.switch_to.default_content()\n",
    "# driver.find_element_by_xpath('//*[@id=\"BLACK\"]').click()\n",
    "# driver.find_element_by_xpath('//div[@data-value=\"M\"]').click() # xpath syntax: https://www.browserstack.com/guide/find-element-by-xpath-in-selenium"
   ]
  },
  {
   "cell_type": "code",
   "execution_count": 6,
   "metadata": {},
   "outputs": [],
   "source": [
    "# # second case\n",
    "# driver.find_element_by_xpath('//button[text()=\"Decline Offer\"]').click()\n",
    "# driver.find_element_by_xpath('//*[@id=\"BLACK\"]').click()\n",
    "# driver.find_element_by_xpath('//div[@data-value=\"M\"]').click()"
   ]
  },
  {
   "cell_type": "code",
   "execution_count": 7,
   "metadata": {
    "scrolled": true
   },
   "outputs": [],
   "source": [
    "# # third case\n",
    "# driver.find_element_by_xpath('//button[text()=\"Nah, I\\'ll pay full price\"]').click()\n",
    "# driver.find_element_by_xpath('//*[@id=\"BLACK\"]').click()\n",
    "# driver.find_element_by_xpath('//div[@data-value=\"M\"]').click()"
   ]
  },
  {
   "cell_type": "code",
   "execution_count": 8,
   "metadata": {},
   "outputs": [],
   "source": [
    "# driver.find_element_by_xpath('//span[text()=\"Add to cart\"]').click()"
   ]
  },
  {
   "cell_type": "code",
   "execution_count": 9,
   "metadata": {},
   "outputs": [],
   "source": [
    "# driver.get('https://fordays.com/collections/bottoms/products/high-waisted-wide-leg-pant') \n",
    "# time.sleep(5)"
   ]
  },
  {
   "cell_type": "code",
   "execution_count": 10,
   "metadata": {
    "scrolled": true
   },
   "outputs": [],
   "source": [
    "# driver.find_element_by_xpath('//*[@id=\"BLACK\"]').click()\n",
    "# driver.find_element_by_xpath('//div[@data-value=\"M\"]').click()\n",
    "# driver.find_element_by_xpath('//span[text()=\"Add to cart\"]').click()"
   ]
  },
  {
   "cell_type": "code",
   "execution_count": 11,
   "metadata": {},
   "outputs": [],
   "source": [
    "# driver.find_element_by_xpath('//*[@id=\"BLACK\"]').click()\n",
    "# driver.find_element_by_xpath('//div[@data-value=\"M\"]').click()\n",
    "# driver.find_element_by_xpath('//span[text()=\"Add to cart\"]').click()"
   ]
  },
  {
   "cell_type": "code",
   "execution_count": 12,
   "metadata": {},
   "outputs": [],
   "source": [
    "# driver.find_element_by_xpath('//*[@id=\"checkout-button\"]').click()"
   ]
  },
  {
   "cell_type": "code",
   "execution_count": null,
   "metadata": {},
   "outputs": [],
   "source": []
  }
 ],
 "metadata": {
  "kernelspec": {
   "display_name": "Python 3",
   "language": "python",
   "name": "python3"
  },
  "language_info": {
   "codemirror_mode": {
    "name": "ipython",
    "version": 3
   },
   "file_extension": ".py",
   "mimetype": "text/x-python",
   "name": "python",
   "nbconvert_exporter": "python",
   "pygments_lexer": "ipython3",
   "version": "3.8.3"
  }
 },
 "nbformat": 4,
 "nbformat_minor": 4
}
